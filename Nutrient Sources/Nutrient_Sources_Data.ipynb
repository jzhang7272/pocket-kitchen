{
  "nbformat": 4,
  "nbformat_minor": 0,
  "metadata": {
    "colab": {
      "name": "Nutrient Sources Data.ipynb",
      "provenance": [],
      "collapsed_sections": [],
      "toc_visible": true
    },
    "kernelspec": {
      "name": "python3",
      "display_name": "Python 3"
    },
    "language_info": {
      "name": "python"
    }
  },
  "cells": [
    {
      "cell_type": "code",
      "metadata": {
        "id": "c7YnZB_u1cDZ"
      },
      "source": [
        "import pandas as pd"
      ],
      "execution_count": null,
      "outputs": []
    },
    {
      "cell_type": "code",
      "metadata": {
        "id": "OQQlx0Tn2PuX"
      },
      "source": [
        "df = pd.read_csv('food.csv')\n",
        "\n",
        "VITA_RAE = df[['Description', 'Data.Vitamins.Vitamin A - RAE']]\n",
        "VITC = pd.read_csv('vitamin_c.csv', header=1)\n",
        "VITB12 = pd.read_csv('vitamin_b12.csv', encoding = \"ISO-8859-1\", header=1)\n",
        "VITB6A = pd.read_csv('vitamin_b6.csv', header=1)\n",
        "TOCPHA = pd.read_csv('vitamin_e.csv', header=1)\n",
        "VITK1 = pd.read_csv('vitamin_k.csv', encoding = \"ISO-8859-1\", header=1)\n",
        "VITD = pd.read_csv('vitamin_diu.csv', header=1)\n",
        "RIBF = pd.read_csv('riboflavin.csv', header=1)\n",
        "THIA = df[['Description', 'Data.Thiamin']]\n",
        "NIA = pd.read_csv('niacin.csv', header=1)\n",
        "FOLDFE = pd.read_csv('folate.csv', encoding = \"ISO-8859-1\", header=1)\n",
        "\n",
        "CA = pd.read_csv('calcium.csv', header=1)\n",
        "FE = pd.read_csv('iron.csv', header=1)\n",
        "P = pd.read_csv('phosphorus.csv', header=1)\n",
        "NA = pd.read_csv('sodium.csv', header=1)\n",
        "K = pd.read_csv('potassium.csv', header=1)\n",
        "MG = pd.read_csv('magnesium.csv', header=1)\n",
        "\n",
        "PROCNT = pd.read_csv('protein.csv', header=1)\n",
        "CHOLE = pd.read_csv('cholesterol.csv', header=1)\n",
        "CHOCDF = pd.read_csv('carbohydrate.csv', header=1)\n",
        "FIBTG = df[['Description', 'Data.Fiber']]\n",
        "FASAT = pd.read_csv('sat_fat.csv', header=1)\n",
        "FAT = df[['Description', 'Data.Fat.Total Lipid']]\n",
        "SUGAR = pd.read_csv('total_sugar.csv', header=1)"
      ],
      "execution_count": null,
      "outputs": []
    },
    {
      "cell_type": "code",
      "metadata": {
        "colab": {
          "base_uri": "https://localhost:8080/"
        },
        "id": "uhrM070Y2laQ",
        "outputId": "8f831304-b889-48d8-c3d8-0c15959505d9"
      },
      "source": [
        "nutrients = {'VITA_RAE': 900, 'VITC': 90, 'VITB12': 2.4, 'VITB6A': 1.7, 'TOCPHA': 15, 'VITD': 20, 'VITK1': 120, 'RIBF': 1.3, \n",
        "             'THIA': 1.2, 'NIA': 16, 'FOLDFE': 400, 'CA': 1300, 'FE': 18, 'P': 1250, 'NA': 2300, 'K': 4700, 'MG': 420, 'PROCNT': 50, \n",
        "             'CHOLE': 300, 'CHOCDF': 275, 'FIBTG': 28, 'FASAT': 20, 'FAT': 78, 'SUGAR': 50}\n",
        "\n",
        "columns = ['food', 'quantity', 'nutrient']\n",
        "final = pd.DataFrame(columns=columns)\n",
        "\n",
        "\n",
        "for nutrient in nutrients.keys():\n",
        "  temp = eval(nutrient)\n",
        "\n",
        "  if (len(temp.columns) == 2):\n",
        "    temp = temp.sort_values(by=temp.columns[1], ascending=[False])\n",
        "    temp['food'] = temp['Description'].str.split(',').str[0][:-1]\n",
        "    temp['food'] = temp['food'].str.title()\n",
        "    temp = temp.iloc[:, [1, 2]]\n",
        "    temp.columns = ['quantity', 'food']\n",
        "    titles = ['food', 'quantity']\n",
        "    temp = temp.reindex(columns=titles)\n",
        "  else:\n",
        "    temp = temp.sort_values(by=temp.columns[2], ascending=[False])\n",
        "    temp['food'] = temp['Description'].str.split(',').str[0][:-1]\n",
        "    temp = temp.iloc[:, [3, 2]]\n",
        "\n",
        "  temp.columns = ['food', 'quantity']\n",
        "  temp = temp.drop_duplicates(subset='food')\n",
        "  temp['nutrient'] = nutrient\n",
        "  temp = temp[temp['quantity'] >= 0.2 * nutrients[nutrient]]  \n",
        "  \n",
        "  final = final.append(temp)\n",
        "\n",
        "final = final[~final['food'].str.contains('fo')]\n",
        "final = final[~final['food'].str.contains('Fo')]\n",
        "final = final[~final['food'].str.contains('Beverage')]\n",
        "final = final[~final['food'].str.contains('Toddler')]\n",
        "\n",
        "print(final)\n",
        "\n",
        "final.to_csv(\"final.csv\")"
      ],
      "execution_count": null,
      "outputs": [
        {
          "output_type": "stream",
          "text": [
            "                            food quantity  nutrient\n",
            "640                     Fish Oil    30000  VITA_RAE\n",
            "898                       Turkey    22600  VITA_RAE\n",
            "5072                        Veal    21145  VITA_RAE\n",
            "863                         Duck    11984  VITA_RAE\n",
            "3755                        Beef     9442  VITA_RAE\n",
            "...                          ...      ...       ...\n",
            "135   Archway Home Style Cookies    10.76     SUGAR\n",
            "140                    Chocolate    10.41     SUGAR\n",
            "144                       Snacks    10.32     SUGAR\n",
            "145                Cheese spread    10.25     SUGAR\n",
            "150                       Squash    10.05     SUGAR\n",
            "\n",
            "[2071 rows x 3 columns]\n"
          ],
          "name": "stdout"
        }
      ]
    }
  ]
}